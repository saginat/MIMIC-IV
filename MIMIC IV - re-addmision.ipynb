{
  "nbformat": 4,
  "nbformat_minor": 0,
  "metadata": {
    "colab": {
      "provenance": []
    },
    "kernelspec": {
      "name": "python3",
      "display_name": "Python 3"
    },
    "language_info": {
      "name": "python"
    }
  },
  "cells": [
    {
      "cell_type": "code",
      "execution_count": null,
      "metadata": {
        "id": "THmzWgad26rf"
      },
      "outputs": [],
      "source": [
        "import pandas as pd\n",
        "pd.set_option('display.max_columns', 500)\n",
        "import numpy as np\n",
        "import matplotlib.pyplot as plt\n",
        "import seaborn as sns"
      ]
    },
    {
      "cell_type": "code",
      "source": [
        "from google.colab import drive\n",
        "drive.mount('/content/drive')"
      ],
      "metadata": {
        "colab": {
          "base_uri": "https://localhost:8080/"
        },
        "id": "kBNlj-u1drj4",
        "outputId": "33960414-2dec-41b3-e892-8fe61301e66f"
      },
      "execution_count": null,
      "outputs": [
        {
          "output_type": "stream",
          "name": "stdout",
          "text": [
            "Drive already mounted at /content/drive; to attempt to forcibly remount, call drive.mount(\"/content/drive\", force_remount=True).\n"
          ]
        }
      ]
    },
    {
      "cell_type": "markdown",
      "source": [
        "#Addmisions"
      ],
      "metadata": {
        "id": "XFnREhCUC71_"
      }
    },
    {
      "cell_type": "code",
      "source": [
        "addmissions = pd.read_csv('/content/drive/MyDrive/research/research/hosp/admissions.csv')\n",
        "\n",
        "def categorize_strings(str_list):\n",
        "    categories = {string: 'EMERGENCY' if ('EMER' or 'URGENT') in string else 'OBSERVATION' if 'OBSERV' in string else None for string in str_list}\n",
        "    categories = {k: v for k, v in categories.items() if v is not None}\n",
        "    return categories\n",
        "\n",
        "def proccess_addmision(admits):\n",
        "    '''\n",
        "        at the moment there where are still many values in the race catagory, if we want to change use the next code snippet\n",
        "\n",
        "    '''\n",
        "    return (\n",
        "            admits\n",
        "            [['subject_id','hadm_id', 'admittime', 'dischtime', 'deathtime', 'admission_type', 'insurance','marital_status' ,'race']]\n",
        "            .assign(admittime = pd.to_datetime(admits['admittime']),\n",
        "                    dischtime = pd.to_datetime(admits['dischtime']),\n",
        "                    deathtime = pd.to_datetime(admits['deathtime']),\n",
        "                    died_at_the_hospital = admits['hospital_expire_flag'],\n",
        "                    race = admits['race'].replace({'UNKNOWN':'other/unknown','UNABLE TO OBTAIN':'other/unknown','OTHER':'other/unknown'}),\n",
        "                    admission_type = admits['admission_type'].replace(categorize_strings(admits['admission_type'].value_counts().index.tolist())))\n",
        "           )\n",
        "    \n",
        "addmissions = proccess_addmision(addmissions)"
      ],
      "metadata": {
        "id": "B2Plje-83Gsi"
      },
      "execution_count": null,
      "outputs": []
    },
    {
      "cell_type": "code",
      "source": [
        "# TODO: check if relveant\n",
        "import re\n",
        "def LowerRaceCardinality(df,Limit=None):\n",
        "  '''\n",
        "  input = given a df and limit of how many wanted catagories wanted\n",
        "\n",
        "  output = reduce the amount of catagories in the df\n",
        "\n",
        "  '''\n",
        "  repl_dict = {re.compile('^ASIAN\\D*'): 'ASIAN',\n",
        "                re.compile('^WHITE\\D'): 'WHITE',\n",
        "                re.compile('^HISPANIC\\D'): 'HISPANIC/LATINO',\n",
        "                re.compile('^BLACK\\D'): 'BLACK/AFRICAN AMERICAN'}\n",
        "  df['race'] = df['race'].replace(repl_dict, regex=True)\n",
        "\n",
        "  if Limit != None:\n",
        "    df['race'] = df['race'].loc[~df['race'].isin(df['race'].value_counts().nlargest(Limit).index.tolist())] = 'OTHER/UNKNOWN'  \n",
        "  \n",
        "\n",
        "  return df\n",
        "\n",
        "# # Compress the number of ethnicity categories\n",
        "# admits['ethnicity'].replace(regex=r'^ASIAN\\D*', value='ASIAN', inplace=True)\n",
        "# admits['ethnicity'].replace(regex=r'^WHITE\\D*', value='WHITE', inplace=True)\n",
        "# admits['ethnicity'].replace(regex=r'^HISPANIC\\D*', value='HISPANIC/LATINO', inplace=True)\n",
        "# admits['ethnicity'].replace(regex=r'^BLACK\\D*', value='BLACK/AFRICAN AMERICAN', inplace=True)\n",
        "# admits['ethnicity'].replace(['UNABLE TO OBTAIN', 'OTHER', 'PATIENT DECLINED TO ANSWER', \n",
        "#                          'UNKNOWN/NOT SPECIFIED'], value='OTHER/UNKNOWN', inplace=True)\n",
        "# #take into consideration just the top-5 categories with biggest value_count, the others will fall into OTHER category\n",
        "# admits['ethnicity'].loc[~admits['ethnicity'].isin(admits['ethnicity'].value_counts().nlargest(5).index.tolist())] = 'OTHER/UNKNOWN'  \n",
        "# admits['ethnicity'].value_counts()"
      ],
      "metadata": {
        "id": "lBj6HT5j4nrK"
      },
      "execution_count": null,
      "outputs": []
    },
    {
      "cell_type": "markdown",
      "source": [
        "#Patients"
      ],
      "metadata": {
        "id": "5W-lTvYQC6gC"
      }
    },
    {
      "cell_type": "code",
      "source": [
        "patients = pd.read_csv('/content/drive/MyDrive/research/research/hosp/patients.csv')\n",
        "\n",
        "def proccess_patients(patients):\n",
        "    return (\n",
        "            patients\n",
        "            [['subject_id', 'gender', 'anchor_age', 'dod']]\n",
        "            .assign(dod  = pd.to_datetime(patients['dod']),\n",
        "                    is_male = np.where(patients['gender'] == 'M',1,0))\n",
        "            .drop('gender',axis=1)\n",
        "            .query('anchor_age > 0 ')  #removes children\n",
        "           )\n",
        "patients = proccess_patients(patients)"
      ],
      "metadata": {
        "id": "UVSHs5ah3G3o"
      },
      "execution_count": null,
      "outputs": []
    },
    {
      "cell_type": "code",
      "source": [
        "admits_patients = pd.merge(addmissions, patients, how='inner', on='subject_id')"
      ],
      "metadata": {
        "id": "hU9XX83Ji0KJ"
      },
      "execution_count": null,
      "outputs": []
    },
    {
      "cell_type": "markdown",
      "source": [
        "#Diagnoses_icd"
      ],
      "metadata": {
        "id": "HbaKY-loFgw4"
      }
    },
    {
      "cell_type": "code",
      "source": [
        "diagnoses_icd = pd.read_csv('/content/drive/MyDrive/research/research/hosp/diagnoses_icd.csv')\n",
        "\n",
        "# Associated category names\n",
        "diag_dict = {0: 'infectious', 1: 'neoplasms', 2: 'endocrine', 3: 'blood',\n",
        "              4: 'mental', 5: 'nervous', 6: 'circulatory', 7: 'respiratory',\n",
        "              8: 'digestive', 9: 'genitourinary', 10: 'pregnancy', 11: 'skin', \n",
        "              12: 'muscular', 13: 'congenital', 14: 'prenatal', 15: 'misc',\n",
        "              16: 'injury and poisoning', 17: 'misc'}\n",
        "\n",
        "def recoder(diag):\n",
        "  # ICD-9 Main Category ranges\n",
        "  icd9_ranges = [(1, 140), (140, 240), (240, 280), (280, 290), (290, 320), (320, 390), \n",
        "                (390, 460), (460, 520), (520, 580), (580, 630), (630, 680), (680, 710),\n",
        "                (710, 740), (740, 760), (760, 780), (780, 800), (800, 1000), (1000, 2000)]\n",
        "\n",
        "  # Re-code in terms of integer\n",
        "  for num, cat_range in enumerate(icd9_ranges):\n",
        "      diag['recode'] = np.where(diag['recode'].between(cat_range[0],cat_range[1]), num, diag['recode'])\n",
        "  \n",
        "  return diag['recode']\n",
        "\n",
        "\n",
        "def proccess_diagnoses_icd(diag):\n",
        "    '''\n",
        "    information about the icd cats where taken from here - https://en.wikipedia.org/wiki/List_of_ICD-9_codes\n",
        "\n",
        "    '''\n",
        "    return (\n",
        "            diag\n",
        "            .query('icd_version == 9')\n",
        "            .assign(recode = diag['icd_code'][~diag['icd_code'].str.contains(\"[a-zA-Z]\").fillna(False)])\n",
        "            .assign(recode = lambda d:(\n",
        "                                        d['recode']\n",
        "                                       .str\n",
        "                                       .slice(start=0, stop=3, step=1)\n",
        "                                       .fillna(999)\n",
        "                                       .astype(int)\n",
        "                                       ))\n",
        "            .assign(recode = lambda d:recoder(d))\n",
        "            .assign(icd_catagory = lambda d:d['recode'].replace(diag_dict))\n",
        "          )\n",
        "diag = proccess_diagnoses_icd(diagnoses_icd)"
      ],
      "metadata": {
        "id": "hxnuL0AMmM_D"
      },
      "execution_count": null,
      "outputs": []
    },
    {
      "cell_type": "code",
      "source": [
        "'''\n",
        "for each hadm_id visit get a count for how many diag codes from the same catagory that patient recieved\n",
        "'''\n",
        "\n",
        "hadm_list = ( \n",
        "              diag\n",
        "             .groupby('hadm_id')\n",
        "             ['icd_catagory']\n",
        "             .apply(list)\n",
        "             .reset_index()\n",
        "            ) \n",
        "\n",
        "hadm_item = (\n",
        "            pd.get_dummies(\n",
        "                           hadm_list['icd_catagory']\n",
        "                           .apply(pd.Series)\n",
        "                           .stack()\n",
        "                          )\n",
        "            .groupby(level=0)\n",
        "            .sum()\n",
        "            .pipe(lambda d:d.join(hadm_list['hadm_id'], how=\"outer\"))\n",
        "            )\n",
        "\n",
        "admits_patients_diag = pd.merge(admits_patients, hadm_item, how='inner', on='hadm_id')\n"
      ],
      "metadata": {
        "id": "bLsBwns2thqC"
      },
      "execution_count": null,
      "outputs": []
    },
    {
      "cell_type": "code",
      "source": [
        "admits_patients_diag['hadm_id']"
      ],
      "metadata": {
        "colab": {
          "base_uri": "https://localhost:8080/"
        },
        "id": "eyYhgaWls6oN",
        "outputId": "dd6e1c91-13d1-4eaf-b7f3-367fd23462ee"
      },
      "execution_count": null,
      "outputs": [
        {
          "output_type": "execute_result",
          "data": {
            "text/plain": [
              "0         22595853\n",
              "1         22841357\n",
              "2         25742920\n",
              "3         29079034\n",
              "4         25022803\n",
              "            ...   \n",
              "291809    27638769\n",
              "291810    27674281\n",
              "291811    21033226\n",
              "291812    26071774\n",
              "291813    23865745\n",
              "Name: hadm_id, Length: 291814, dtype: int64"
            ]
          },
          "metadata": {},
          "execution_count": 12
        }
      ]
    },
    {
      "cell_type": "markdown",
      "source": [],
      "metadata": {
        "id": "AsQZBlq9s6eY"
      }
    },
    {
      "cell_type": "code",
      "source": [
        "# admits_patients_diag.to_csv('admits_patients_diag.csv')"
      ],
      "metadata": {
        "id": "epQSvbdhzamQ"
      },
      "execution_count": null,
      "outputs": []
    },
    {
      "cell_type": "code",
      "source": [
        "print(f'''\n",
        "      Number of missing date admissions: {admits_patients_diag.admittime.isnull().sum()}\n",
        "      Number of missing date discharges: {admits_patients_diag.dischtime.isnull().sum()}\n",
        "      ''')"
      ],
      "metadata": {
        "colab": {
          "base_uri": "https://localhost:8080/"
        },
        "id": "HUcdIiGC0pdR",
        "outputId": "eb6b7c07-cd0f-4b05-add8-c95e1b9fef3f"
      },
      "execution_count": null,
      "outputs": [
        {
          "output_type": "stream",
          "name": "stdout",
          "text": [
            "\n",
            "      Number of missing date admissions: 0\n",
            "      Number of missing date discharges: 0\n",
            "      \n"
          ]
        }
      ]
    },
    {
      "cell_type": "code",
      "source": [
        "def NonElective(df):\n",
        "  '''\n",
        "  as we are only interested about patients that were readdmited in a non elective manner\n",
        "  change the information in those rows to null\n",
        "  '''\n",
        "  elective_rows = df['next_admission_type'] == 'ELECTIVE'\n",
        "  df.loc[elective_rows,'next_admittime'] = np.NaN\n",
        "  df.loc[elective_rows,'next_admission_type'] = np.NaN\n",
        "  return df\n",
        "\n",
        "def NextAdmitAfterElective(df):\n",
        "  '''\n",
        "  using the bfill method for rows with null values in the next admission type with\n",
        "\n",
        "  '''\n",
        "  df[['next_admittime','next_admission_type']] = (\n",
        "                                                   df\n",
        "                                                  .groupby(['subject_id'])\n",
        "                                                  [['next_admittime','next_admission_type']]\n",
        "                                                  .fillna(method = 'bfill')\n",
        "                                                  )\n",
        "  \n",
        "  return df\n",
        "\n",
        "def AddAgeGroup(df):\n",
        "  '''\n",
        "  adding a grouping system for ages\n",
        "  '''\n",
        "  \n",
        "  age_ranges = [(0, 2),(3,9),(10,19), (20, 36), (37, 56), (57, 100)]\n",
        "  df['anchor_group'] = df['anchor_age']\n",
        "  for num, cat_range in enumerate(age_ranges):\n",
        "      df['anchor_group'] = np.where(df['anchor_group'].between(cat_range[0],cat_range[1]), num, df['anchor_group'])\n",
        "\n",
        "  age_dict = {0: 'NEWBORN', 1: 'KID', 2: 'TEEN',3:'YOUNG-ADULT',4:'MIDDLE_ADULT', 5: 'SENIOR'}\n",
        "  df['anchor_group'] = df['anchor_group'].replace(age_dict)\n",
        "\n",
        "  return df\n",
        "\n"
      ],
      "metadata": {
        "id": "1yElRZ2k4f5L"
      },
      "execution_count": null,
      "outputs": []
    },
    {
      "cell_type": "code",
      "source": [
        "admits_patients_diag =   (\n",
        "                          admits_patients_diag\n",
        "                          .sort_values(['subject_id','admittime'])\n",
        "                          .assign(next_admittime = lambda d:d.groupby('subject_id').admittime.shift(-1),\n",
        "                                  next_admission_type = lambda d:d.groupby('subject_id').admission_type.shift(-1))\n",
        "                          .pipe(lambda d:NonElective(d))\n",
        "                          .pipe(lambda d:NextAdmitAfterElective(d))\n",
        "                          .assign(days_until_next_admit = lambda d: (d['next_admittime'] - d['dischtime']).dt.total_seconds()/(24*60*60))\n",
        "                          .pipe(lambda d:AddAgeGroup(d))\n",
        "\n",
        "                         )"
      ],
      "metadata": {
        "id": "mPzCE6QQ1h_7"
      },
      "execution_count": null,
      "outputs": []
    },
    {
      "cell_type": "markdown",
      "source": [
        "#icustays"
      ],
      "metadata": {
        "id": "gnqol7lRD0JV"
      }
    },
    {
      "cell_type": "code",
      "source": [
        "icustays = pd.read_csv('/content/drive/MyDrive/research/research/ICU/icustays.csv')"
      ],
      "metadata": {
        "id": "YoauSyDjMHDR"
      },
      "execution_count": null,
      "outputs": []
    },
    {
      "cell_type": "code",
      "source": [
        "icu_list = (\n",
        "            icustays\n",
        "            .rename(columns={'first_careunit':'category'})\n",
        "            .groupby('hadm_id')\n",
        "            ['category']\n",
        "            .apply(list)\n",
        "            .reset_index()\n",
        "           )"
      ],
      "metadata": {
        "id": "BBN6UA1SMPMO"
      },
      "execution_count": null,
      "outputs": []
    },
    {
      "cell_type": "code",
      "source": [
        "icu_item = (\n",
        "            pd.get_dummies(\n",
        "                            icu_list['category']\n",
        "                          .apply(pd.Series)\n",
        "                          .stack()\n",
        "                          )\n",
        "          .groupby(level=0)\n",
        "          .sum()\n",
        "          .pipe(lambda d: (d>=1).astype(int))\n",
        "          .pipe(lambda d: d.join(icu_list['hadm_id'], how=\"outer\"))\n",
        "        )"
      ],
      "metadata": {
        "id": "bgKtSM_TN79O"
      },
      "execution_count": null,
      "outputs": []
    },
    {
      "cell_type": "code",
      "source": [
        "def fill_na_last(df, numberofcolumns):\n",
        "  df.iloc[:, -numberofcolumns:] = df.iloc[:, -numberofcolumns:].fillna(0)\n",
        "  return df \n",
        "\n",
        "df4 = (\n",
        "        admits_patients_diag\n",
        "       .merge(icu_item, how='inner', on='hadm_id')\n",
        "       .pipe(lambda d:fill_na_last(d,9))\n",
        "      )"
      ],
      "metadata": {
        "id": "78lcTGYVS1q5"
      },
      "execution_count": null,
      "outputs": []
    },
    {
      "cell_type": "markdown",
      "source": [
        "#chartsevent"
      ],
      "metadata": {
        "id": "IY7TPBg1D2Ra"
      }
    },
    {
      "cell_type": "markdown",
      "source": [
        "this operation was done on a server with higher ram"
      ],
      "metadata": {
        "id": "23NigICZkc9e"
      }
    },
    {
      "cell_type": "markdown",
      "source": [
        "\n",
        "\n",
        "```\n",
        "charts = pd.read_csv(...)\n",
        "\n",
        "vital_dict = {220045: 'Heart Rate',\n",
        "              220210: 'Respiratory Rate',\n",
        "              220277: 'O2 saturation pulseoxymetry',\n",
        "              220048: 'Heart Rhythm',\n",
        "              224650: 'Ectopy Type 1',\n",
        "              220179: 'Non Invasive Blood Pressure systolic',\n",
        "              220180: 'Non Invasive Blood Pressure diastolic',\n",
        "              220181: 'Non Invasive Blood Pressure mean'}\n",
        "\n",
        "\n",
        "def group_vitals(group):\n",
        "    # Create a new DataFrame with the hadm_id and a list of all the itemid values\n",
        "    return pd.DataFrame({'hadm_id': group['hadm_id'].iloc[0], 'itemids': [group['itemid'].tolist()],\n",
        "                         'values': [group['value'].tolist()] })\n",
        "                        \n",
        "\n",
        "grouped = (\n",
        "            charts\n",
        "            .query('itemid in @vital_list_codes')\n",
        "            .groupby('hadm_id')\n",
        "            .apply(group_vitals)\n",
        "            .reset_index(drop=True)\n",
        "          )\n",
        "\n",
        "\n",
        "df4 = df4.merge(grouped,on='hadm_id')\n",
        "vital_sign_results = df4.apply(lambda row: {vital_dict[item]: value for item, value in zip(row[\"itemids\"], row[\"values\"]) if item in list(vital_dict.keys())}, axis=1)\n",
        "unpacked = pd.DataFrame.from_records(vital_sign_results.tolist())\n",
        "unpacked.columns = ['first_' + col for col in temp.columns]\n",
        "df5 = df4.join(temp)\n",
        "```\n",
        "\n"
      ],
      "metadata": {
        "id": "kc9BHxTjmLgn"
      }
    },
    {
      "cell_type": "code",
      "source": [
        "df5 = pd.read_csv('/content/drive/MyDrive/after_vitals.csv',parse_dates=['admittime','dischtime','deathtime','next_admittime'])\n",
        "\n",
        "def change_columns_to_int(df,startCol,EndCol):\n",
        "    df.iloc[:, startCol:EndCol] = df.iloc[:, startCol:EndCol].astype(int)\n",
        "    return df\n",
        "\n",
        "def fix_df5(df5):\n",
        "    return (\n",
        "            df5\n",
        "            .drop(df5.columns[df5.columns.str.contains('unnamed',case = False)],axis = 1)\n",
        "           )\n",
        "\n",
        "df5 = fix_df5(df5)"
      ],
      "metadata": {
        "colab": {
          "base_uri": "https://localhost:8080/"
        },
        "id": "2A6caeZhozkP",
        "outputId": "ba45df27-d7e4-4019-f7b2-32621b7f33a8"
      },
      "execution_count": null,
      "outputs": [
        {
          "output_type": "stream",
          "name": "stderr",
          "text": [
            "/usr/local/lib/python3.8/dist-packages/IPython/core/interactiveshell.py:3326: DtypeWarning: Columns (7,8,9,10,13,33,35) have mixed types.Specify dtype option on import or set low_memory=False.\n",
            "  exec(code_obj, self.user_global_ns, self.user_ns)\n"
          ]
        }
      ]
    },
    {
      "cell_type": "code",
      "source": [
        "# def final_dummies(df):\n",
        "#   prefix_cols = ['ADM', 'INS','MS','RACE', 'AGE','HR','ECTO']\n",
        "#   dummy_cols = ['admission_type', 'insurance','marital_status','race', 'anchor_group','first_Heart Rhythm','first_Ectopy Type 1'] \n",
        "#   return pd.get_dummies(df, prefix=prefix_cols, columns=dummy_cols)\n"
      ],
      "metadata": {
        "id": "eLBuwTGiBO-t"
      },
      "execution_count": null,
      "outputs": []
    },
    {
      "cell_type": "code",
      "source": [
        "final_df = (\n",
        "            df5\n",
        "            .query('died_at_the_hospital == 0.0')\n",
        "            # .pipe(final_dummies)\n",
        "            .drop(['subject_id', 'hadm_id', 'admittime', 'dischtime', 'deathtime','dod', 'died_at_the_hospital','next_admittime'],axis=1)\n",
        "            .dropna(axis=0)\n",
        "            .assign(READMISSION_30 = lambda d:(d.days_until_next_admit < 30).astype('int'),\n",
        "                    READMISSION_90 = lambda d:(d.days_until_next_admit < 90).astype('int'),\n",
        "                    READMISSION_365 = lambda d:(d.days_until_next_admit < 365).astype('int'))\n",
        "            .pipe(lambda d:d.drop('days_until_next_admit',axis=1))      \n",
        "            )     "
      ],
      "metadata": {
        "id": "MiTUNX0lAi5c"
      },
      "execution_count": null,
      "outputs": []
    },
    {
      "cell_type": "code",
      "source": [
        "\n",
        "\n",
        "print(f'''\n",
        "      number of positive samples for 30 days: {(final_df.READMISSION_30 == 1).sum()}\n",
        "      number of negative samples for 30 days: {(final_df.READMISSION_30 == 0).sum()}\n",
        "\n",
        "      number of positive samples for 90 days: {(final_df.READMISSION_90 == 1).sum()}\n",
        "      number of negative samples for 90 days: {(final_df.READMISSION_90 == 0).sum()}\n",
        "\n",
        "      number of positive samples for 365 days: {(final_df.READMISSION_365 == 1).sum()}\n",
        "      number of negative samples for 365 days: {(final_df.READMISSION_365 == 0).sum()}\n",
        "\n",
        "      total number of samples: {len(final_df)}\n",
        "\n",
        "\n",
        "      ''')\n"
      ],
      "metadata": {
        "colab": {
          "base_uri": "https://localhost:8080/"
        },
        "id": "Tv9mEQ3uDW2K",
        "outputId": "b18314e2-6b87-4bb3-dbf0-356070daffa6"
      },
      "execution_count": null,
      "outputs": [
        {
          "output_type": "stream",
          "name": "stdout",
          "text": [
            "\n",
            "      number of positive samples for 30 days: 7583\n",
            "      number of negative samples for 30 days: 9909\n",
            "\n",
            "      number of positive samples for 90 days: 11184\n",
            "      number of negative samples for 90 days: 6308\n",
            "\n",
            "      number of positive samples for 365 days: 14932\n",
            "      number of negative samples for 365 days: 2560\n",
            "\n",
            "      total number of samples: 17492\n",
            "\n",
            "\n",
            "      \n"
          ]
        }
      ]
    },
    {
      "cell_type": "code",
      "source": [
        "df = final_df.copy()\n",
        "df = df.drop(['READMISSION_30','READMISSION_365'],axis=1)"
      ],
      "metadata": {
        "id": "Lqt_Ndv2aL29"
      },
      "execution_count": null,
      "outputs": []
    },
    {
      "cell_type": "code",
      "source": [
        "import pandas as pd\n",
        "import numpy as np\n",
        "from sklearn.preprocessing import LabelEncoder\n",
        "from sklearn.metrics import roc_curve, auc, confusion_matrix\n",
        "from xgboost import XGBClassifier\n",
        "import matplotlib.pyplot as plt\n",
        "from sklearn.model_selection import train_test_split\n",
        "\n",
        "# Load data\n",
        "\n",
        "\n",
        "# Encode any categorical features\n",
        "for col in df.columns:\n",
        "    if df[col].dtype == 'object':\n",
        "        le = LabelEncoder()\n",
        "        df[col] = le.fit_transform(df[col])\n",
        "\n",
        "# Split into features and target\n",
        "X = df.drop('READMISSION_90', axis=1)\n",
        "y = df['READMISSION_90']\n",
        "\n",
        "# Split into train and test sets\n",
        "X_train, X_test, y_train, y_test = train_test_split(X, y, test_size=0.2, random_state=42,stratify=y)\n",
        "\n",
        "# Fit the XGBoost model\n",
        "model = XGBClassifier()\n",
        "model.fit(X_train, y_train)\n",
        "\n",
        "# Predict probabilities for test set\n",
        "y_pred_prob = model.predict_proba(X_test)[:, 1]\n",
        "\n",
        "# Compute ROC curve and AUC score\n",
        "fpr, tpr, thresholds = roc_curve(y_test, y_pred_prob)\n",
        "roc_auc = auc(fpr, tpr)\n",
        "\n",
        "# Plot ROC curve\n",
        "plt.plot(fpr, tpr, lw=1, alpha=0.9, label='ROC curve (AUC = %0.2f)' % (roc_auc))\n",
        "plt.plot([0, 1], [0, 1], linestyle='--', lw=1, color='gray', alpha=0.5)\n",
        "plt.xlim([0.0, 1.0])\n",
        "plt.ylim([0.0, 1.05])\n",
        "plt.xlabel('False Positive Rate')\n",
        "plt.ylabel('True Positive Rate')\n",
        "plt.title('Receiver operating characteristic')\n",
        "plt.legend(loc=\"lower right\")\n",
        "plt.show()\n",
        "\n",
        "# Predict test set labels\n",
        "y_pred = model.predict(X_test)\n",
        "\n",
        "# Compute confusion matrix\n",
        "cm = confusion_matrix(y_test, y_pred)\n",
        "\n",
        "# Plot confusion matrix\n",
        "plt.matshow(cm, cmap=plt.cm.Blues)\n",
        "plt.colorbar()\n",
        "for i in range(cm.shape[0]):\n",
        "    for j in range(cm.shape[1]):\n",
        "        plt.text(j, i, cm[i, j], ha='center', va='center')\n",
        "plt.xlabel('Predicted label')\n",
        "plt.ylabel('True label')\n",
        "plt.title('Confusion matrix')\n",
        "plt.show()\n"
      ],
      "metadata": {
        "colab": {
          "base_uri": "https://localhost:8080/",
          "height": 543
        },
        "id": "sjiNJ46LFhqa",
        "outputId": "cabb6410-7cf9-4104-eb38-a4713f20f0ea"
      },
      "execution_count": null,
      "outputs": [
        {
          "output_type": "display_data",
          "data": {
            "text/plain": [
              "<Figure size 432x288 with 1 Axes>"
            ],
            "image/png": "[encoded data removed]"
          },
          "metadata": {
            "needs_background": "light"
          }
        },
        {
          "output_type": "display_data",
          "data": {
            "text/plain": [
              "<Figure size 288x288 with 2 Axes>"
            ],
            "image/png": "[encoded data removed]"
          },
          "metadata": {
            "needs_background": "light"
          }
        }
      ]
    }
  ]
}